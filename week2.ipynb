{
  "nbformat": 4,
  "nbformat_minor": 0,
  "metadata": {
    "colab": {
      "provenance": []
    },
    "kernelspec": {
      "name": "python3",
      "display_name": "Python 3"
    },
    "language_info": {
      "name": "python"
    }
  },
  "cells": [
    {
      "cell_type": "code",
      "execution_count": 1,
      "metadata": {
        "colab": {
          "base_uri": "https://localhost:8080/"
        },
        "id": "adCs52vdEXot",
        "outputId": "48dee5ba-3450-45cf-8f3c-707580ab59c9"
      },
      "outputs": [
        {
          "output_type": "stream",
          "name": "stdout",
          "text": [
            "capitalize(): Prity yadav\n",
            "upper(): PRITY YADAV\n",
            "title(): Prity Yadav\n"
          ]
        }
      ],
      "source": [
        "text = \"prity yadav\"\n",
        "\n",
        "# Capitalize first character, rest lowercase\n",
        "capitalized_text = text.capitalize()\n",
        "print(\"capitalize():\", capitalized_text)  # Output: \"Prity Yadav\"\n",
        "\n",
        "# Convert entire string to uppercase\n",
        "upper_text = text.upper()\n",
        "print(\"upper():\", upper_text)  # Output: \"PRITY YADAV\"\n",
        "\n",
        "# Capitalize first character of each word\n",
        "title_text = text.title()\n",
        "print(\"title():\", title_text)  # Output: \"Prity Yadav\""
      ]
    }
  ]
}